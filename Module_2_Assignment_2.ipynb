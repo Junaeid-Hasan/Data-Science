{
  "nbformat": 4,
  "nbformat_minor": 0,
  "metadata": {
    "colab": {
      "provenance": []
    },
    "kernelspec": {
      "name": "python3",
      "display_name": "Python 3"
    },
    "language_info": {
      "name": "python"
    }
  },
  "cells": [
    {
      "cell_type": "markdown",
      "source": [
        "Write a Python program that takes two sets from the user and computes their union, intersection, and difference.\n",
        "\n",
        "A = {1, 2, 3, 4, 5}\n",
        "\n",
        "B = {4, 5, 6, 7, 8}"
      ],
      "metadata": {
        "id": "dZzB0vca6nGk"
      }
    },
    {
      "cell_type": "code",
      "execution_count": 1,
      "metadata": {
        "colab": {
          "base_uri": "https://localhost:8080/"
        },
        "id": "xTF2kcOJ6hKC",
        "outputId": "9b23cc8c-4a73-4ac9-c2be-582804366a70"
      },
      "outputs": [
        {
          "output_type": "stream",
          "name": "stdout",
          "text": [
            "Union of A and B : {1, 2, 3, 4, 5, 6, 7, 8}\n",
            "Intersection of A and B : {4, 5}\n",
            "Diffence from A to B : {1, 2, 3}\n",
            "Diffence from B to A : {8, 6, 7}\n"
          ]
        }
      ],
      "source": [
        "#Predefine Sets\n",
        "A={1,2,3,4,5}\n",
        "B={4,5,6,7,8}\n",
        "#union\n",
        "union=A.union(B)\n",
        "print(f\"Union of A and B : {union}\")\n",
        "#intersection\n",
        "intersection=A.intersection(B)\n",
        "print(f\"Intersection of A and B : {intersection}\")\n",
        "#difference\n",
        "differenceA=A.difference(B)\n",
        "print(f\"Diffence from A to B : {differenceA}\")\n",
        "differenceB=B.difference(A)\n",
        "print(f\"Diffence from B to A : {differenceB}\")"
      ]
    }
  ]
}