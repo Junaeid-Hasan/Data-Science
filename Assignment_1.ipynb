{
 "cells": [
  {
   "cell_type": "markdown",
   "metadata": {
    "id": "RVH542PbPqRn"
   },
   "source": [
    "Problem: 01\n",
    "\n",
    "Write a Python program that takes a number as input and checks whether it is even or odd.\n"
   ]
  },
  {
   "cell_type": "code",
   "execution_count": 2,
   "metadata": {
    "colab": {
     "base_uri": "https://localhost:8080/"
    },
    "id": "9aG0ywAKPbym",
    "outputId": "230865b2-c77e-42d9-a52c-f4c00f6e361c"
   },
   "outputs": [
    {
     "name": "stdout",
     "output_type": "stream",
     "text": [
      "Enter a number: 6\n",
      "6 is a even number\n"
     ]
    }
   ],
   "source": [
    "number=int(input(\"Enter a number: \"))\n",
    "if number%2==0:\n",
    "  print(f\"{number} is a even number\")\n",
    "else:\n",
    "  print(f\"{number} is an odd number\")"
   ]
  },
  {
   "cell_type": "markdown",
   "metadata": {
    "id": "BXnEGajTQkR8"
   },
   "source": [
    "Problem: 02\n",
    "\n",
    " Write a program that takes two numbers and an operator (+, -, *, /) and performs the calculation"
   ]
  },
  {
   "cell_type": "code",
   "execution_count": 3,
   "metadata": {
    "colab": {
     "base_uri": "https://localhost:8080/"
    },
    "id": "eqDc8e6lQpYZ",
    "outputId": "d5b50a5d-bf23-43c5-a44e-7914f7201911"
   },
   "outputs": [
    {
     "name": "stdout",
     "output_type": "stream",
     "text": [
      "Enter first number: 12\n",
      "Enter second number: 23\n",
      "Enter operator: +\n",
      "12 + 23 = 35\n"
     ]
    }
   ],
   "source": [
    "number1=int(input(\"Enter first number: \"))\n",
    "number2=int(input(\"Enter second number: \"))\n",
    "operator=input(\"Enter operator: \")\n",
    "if operator==\"+\":\n",
    "  print(f\"{number1} + {number2} = {number1+number2}\")\n",
    "elif operator==\"-\":\n",
    "  print(f\"{number1} - {number2} = {number1-number2}\")\n",
    "elif operator==\"*\":\n",
    "  print(f\"{number1} * {number2} = {number1*number2}\")\n",
    "elif operator==\"/\":\n",
    "  print(f\"{number1} / {number2} = {number1/number2}\")\n",
    "else:\n",
    "  print(\"Invalid operator\")"
   ]
  },
  {
   "cell_type": "markdown",
   "metadata": {
    "id": "qIMYuZ2FUw7D"
   },
   "source": [
    "Problem: 03\n",
    "\n",
    "Write a program using a for loop that calculates the sum of even numbers between 1 and 100."
   ]
  },
  {
   "cell_type": "code",
   "execution_count": 4,
   "metadata": {
    "colab": {
     "base_uri": "https://localhost:8080/"
    },
    "id": "S1EGalZpU96D",
    "outputId": "c4b2e712-d4a9-4cbf-9490-a016ca17b278"
   },
   "outputs": [
    {
     "name": "stdout",
     "output_type": "stream",
     "text": [
      "The sum of even numbers between 1 and 100 is 2550\n"
     ]
    }
   ],
   "source": [
    "sum=0\n",
    "for i in range(1,101):\n",
    "  if i%2==0:\n",
    "    sum+=i\n",
    "print(f\"The sum of even numbers between 1 and 100 is {sum}\")\n"
   ]
  }
 ],
 "metadata": {
  "colab": {
   "provenance": []
  },
  "kernelspec": {
   "display_name": "Python 3 (ipykernel)",
   "language": "python",
   "name": "python3"
  },
  "language_info": {
   "codemirror_mode": {
    "name": "ipython",
    "version": 3
   },
   "file_extension": ".py",
   "mimetype": "text/x-python",
   "name": "python",
   "nbconvert_exporter": "python",
   "pygments_lexer": "ipython3",
   "version": "3.12.7"
  }
 },
 "nbformat": 4,
 "nbformat_minor": 4
}
