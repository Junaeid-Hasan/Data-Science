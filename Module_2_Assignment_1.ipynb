{
 "cells": [
  {
   "cell_type": "markdown",
   "metadata": {
    "id": "Efpt2e_I_cPz"
   },
   "source": [
    "##Problem: 01\n",
    "\n",
    "Write a function that takes two numbers as input and returns their average. Call the function with different values."
   ]
  },
  {
   "cell_type": "code",
   "execution_count": 1,
   "metadata": {
    "colab": {
     "base_uri": "https://localhost:8080/"
    },
    "id": "A5D4FIfg_P-8",
    "outputId": "c4945337-8f4a-4e7d-a567-15ea89812d98"
   },
   "outputs": [
    {
     "name": "stdout",
     "output_type": "stream",
     "text": [
      "15.0\n",
      "150.0\n",
      "1025.0\n"
     ]
    }
   ],
   "source": [
    "#function for average\n",
    "def calculate_avg(num1,num2):\n",
    "  return (num1+num2)/2\n",
    "\n",
    "#calling the function with different values\n",
    "print(calculate_avg(10,20))\n",
    "print(calculate_avg(100,200))\n",
    "print(calculate_avg(50,2000))"
   ]
  },
  {
   "cell_type": "markdown",
   "metadata": {
    "id": "4JVqLoT4_k9y"
   },
   "source": [
    "##Problem: 02\n",
    "\n",
    "Write a function that sorts a list of strings alphabetically.\n",
    "\n",
    "[\"apple\", \"banana\", \"cherry\", \"kiwi\", \"grape\"]"
   ]
  },
  {
   "cell_type": "code",
   "execution_count": 2,
   "metadata": {
    "colab": {
     "base_uri": "https://localhost:8080/"
    },
    "id": "IKzX3jDU_rKU",
    "outputId": "1d33c00d-6c55-485f-c0ae-00684966fadf"
   },
   "outputs": [
    {
     "name": "stdout",
     "output_type": "stream",
     "text": [
      "Before sort: ['apple', 'banana', 'cherry', 'kiwi', 'grape']\n",
      "After sort: ['apple', 'banana', 'cherry', 'grape', 'kiwi']\n"
     ]
    }
   ],
   "source": [
    "#function for sort list\n",
    "\n",
    "def sort_list(arg):\n",
    "  return sorted(arg)\n",
    "\n",
    "#calling the function\n",
    "fruits = [\"apple\", \"banana\", \"cherry\", \"kiwi\", \"grape\"]\n",
    "print(f\"Before sort: {fruits}\")\n",
    "print(f\"After sort: {sort_list(fruits)}\")"
   ]
  },
  {
   "cell_type": "markdown",
   "metadata": {
    "id": "B_XNZNSu_ucf"
   },
   "source": [
    "##Problem: 03\n",
    "\n",
    "Write a Python program that creates a new list containing only the duplicate elements from the given list: [1, 5, 6, 5, 1, 2, 3]."
   ]
  },
  {
   "cell_type": "code",
   "execution_count": 3,
   "metadata": {
    "colab": {
     "base_uri": "https://localhost:8080/"
    },
    "id": "qzbS9tEU_zla",
    "outputId": "7186bfe9-44e9-4991-9bc6-6570eab7e0da"
   },
   "outputs": [
    {
     "name": "stdout",
     "output_type": "stream",
     "text": [
      "[1, 5]\n"
     ]
    }
   ],
   "source": [
    "given_list=[1, 5, 6, 5, 1, 2, 3]\n",
    "\n",
    "#Dictionary for list item and count pair\n",
    "counter={}\n",
    "\n",
    "for num in given_list:\n",
    "  counter[num]=given_list.count(num)\n",
    "\n",
    "new_list=[]\n",
    "for key,value in counter.items():\n",
    "  if value>1:\n",
    "    new_list.append(key)\n",
    "print(new_list)"
   ]
  }
 ],
 "metadata": {
  "colab": {
   "provenance": []
  },
  "kernelspec": {
   "display_name": "Python 3 (ipykernel)",
   "language": "python",
   "name": "python3"
  },
  "language_info": {
   "codemirror_mode": {
    "name": "ipython",
    "version": 3
   },
   "file_extension": ".py",
   "mimetype": "text/x-python",
   "name": "python",
   "nbconvert_exporter": "python",
   "pygments_lexer": "ipython3",
   "version": "3.12.7"
  }
 },
 "nbformat": 4,
 "nbformat_minor": 4
}
